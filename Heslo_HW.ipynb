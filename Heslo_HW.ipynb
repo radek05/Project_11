{
 "cells": [
  {
   "cell_type": "code",
   "execution_count": null,
   "id": "d8cea9f3",
   "metadata": {},
   "outputs": [],
   "source": [
    "heslo_0 = \"\"            # FAIL -> \"Vynechal jsi pole s heslem!\"\n",
    "heslo_1 = \"1panpes738\"  # FAIL -> \"Heslo nesmí začínat číselným znakem\"\n",
    "heslo_2 = \"panpessss\"   # FAIL -> \"Heslo musí obsahovat jak číselné znaky, tak písmena\"\n",
    "heslo_3 = \"123456\"      # FAIL -> \"Heslo nesmí začínat číselným znakem\"\n",
    "heslo_4 = \"aa1234\"      # FAIL -> \"Heslo musí být alespoň 8 znaků dlouhé\"\n",
    "heslo_5 = \"p@npes7778\"  # FAIL -> \"Heslo nesmí obsahovat '@'\"\n",
    "heslo_6 = \"panpes7778\"  # PASS -> \"Heslo je v pořádku\""
   ]
  }
 ],
 "metadata": {
  "language_info": {
   "name": "python"
  }
 },
 "nbformat": 4,
 "nbformat_minor": 5
}
